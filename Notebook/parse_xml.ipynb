{
 "cells": [
  {
   "cell_type": "code",
   "execution_count": null,
   "metadata": {},
   "outputs": [],
   "source": [
    "import pandas as pd\n",
    "import xml.etree.ElementTree as et\n",
    "import io\n",
    "import os\n",
    "import numpy as np\n",
    "import datetime\n",
    "from dateutil.parser import parse\n",
    "\n",
    "path = '../data/training/'"
   ]
  },
  {
   "cell_type": "code",
   "execution_count": null,
   "metadata": {},
   "outputs": [],
   "source": [
    "def iter_element(etree, tag):\n",
    "    i=0\n",
    "    for element in etree.find(tag):\n",
    "        i += 1\n",
    "        for key, value in element.attrib.items():   \n",
    "            yield i, key, value\n",
    "            \n",
    "def compute_interval(df, threshold=5, interval_name='ts'):\n",
    "    \n",
    "    # Timestamp interval bins in minutes\n",
    "    threshold = 5\n",
    "    threshold_ns = threshold * 60 * 1e9\n",
    "    \n",
    "    df['interval'] = pd.to_datetime(np.round(df[interval_name].astype(np.int64) / threshold_ns) * threshold_ns)\n",
    "    \n",
    "    return df\n",
    "\n",
    "def calculate_duration(x,y):\n",
    "    if x != '' and y != '':\n",
    "        if y>x:\n",
    "            duration = y-x\n",
    "        else:\n",
    "            duration = x-y\n",
    "        return str(datetime.timedelta(seconds=int(duration.total_seconds())))\n",
    "    return ''\n",
    "\n",
    "def get_data(etree, tag, interval):\n",
    "    df = pd.DataFrame(iter_element(etree, tag))\n",
    "    df = df.pivot(columns=1, index=0)\n",
    "    df.columns = df.columns.levels[1]\n",
    "    if 'ts' in df.columns:\n",
    "        df.ts = df.ts.apply(lambda x: datetime.datetime.strptime(x, '%d-%m-%Y %H:%M:%S'))\n",
    "        df = compute_interval(df, interval, 'ts')\n",
    "    elif 'ts_begin' in df.columns:\n",
    "        df['ts_begin'] = df['ts_begin'].apply(lambda x: datetime.datetime.strptime(x, '%d-%m-%Y %H:%M:%S') if x != '' else x)\n",
    "        df['ts_end'] = df['ts_end'].apply(lambda x: datetime.datetime.strptime(x, '%d-%m-%Y %H:%M:%S') if x != '' else x)\n",
    "        df['duration'] = df.apply(lambda x: calculate_duration(x['ts_begin'], x['ts_end']), axis=1)\n",
    "        df = compute_interval(df, interval, 'ts_begin')\n",
    "    elif 'tbegin' in df.columns:\n",
    "        df['tbegin'] = df['tbegin'].apply(lambda x: datetime.datetime.strptime(x, '%d-%m-%Y %H:%M:%S') if x != '' else x)\n",
    "        df['tend'] = df['tend'].apply(lambda x: datetime.datetime.strptime(x, '%d-%m-%Y %H:%M:%S') if x != '' else x)\n",
    "        df['duration'] = df.apply(lambda x: calculate_duration(x['tbegin'], x['tend']), axis=1)\n",
    "        df = compute_interval(df, interval, 'tbegin')\n",
    "    return df"
   ]
  },
  {
   "cell_type": "code",
   "execution_count": null,
   "metadata": {},
   "outputs": [],
   "source": [
    "tree = et.parse(os.path.join(path, '559-ws-training.xml'))"
   ]
  },
  {
   "cell_type": "code",
   "execution_count": null,
   "metadata": {},
   "outputs": [],
   "source": [
    "root = tree.getroot()\n",
    "root.attrib"
   ]
  },
  {
   "cell_type": "code",
   "execution_count": null,
   "metadata": {},
   "outputs": [],
   "source": [
    "glucose_level = get_data(root, 'glucose_level', 5)\n",
    "glucose_level.head(10)"
   ]
  },
  {
   "cell_type": "code",
   "execution_count": null,
   "metadata": {},
   "outputs": [],
   "source": [
    "finger_stick = get_data(root, 'finger_stick', 5)\n",
    "finger_stick.head(10)"
   ]
  },
  {
   "cell_type": "code",
   "execution_count": null,
   "metadata": {},
   "outputs": [],
   "source": [
    "basal = get_data(root, 'basal', 5)\n",
    "basal.head(10)"
   ]
  },
  {
   "cell_type": "code",
   "execution_count": null,
   "metadata": {},
   "outputs": [],
   "source": [
    "temp_basal = get_data(root, 'temp_basal', 5)\n",
    "temp_basal.head(10)"
   ]
  },
  {
   "cell_type": "code",
   "execution_count": null,
   "metadata": {},
   "outputs": [],
   "source": [
    "bolus = get_data(root, 'bolus', 5)\n",
    "bolus.head(10)"
   ]
  },
  {
   "cell_type": "code",
   "execution_count": null,
   "metadata": {},
   "outputs": [],
   "source": [
    "meal = get_data(root, 'meal', 5)\n",
    "meal.head(10)"
   ]
  },
  {
   "cell_type": "code",
   "execution_count": null,
   "metadata": {},
   "outputs": [],
   "source": [
    "sleep = get_data(root, 'sleep', 5)\n",
    "sleep.head(10)"
   ]
  },
  {
   "cell_type": "code",
   "execution_count": null,
   "metadata": {},
   "outputs": [],
   "source": [
    "work = get_data(root, 'work', 5)\n",
    "work.head(10)"
   ]
  },
  {
   "cell_type": "code",
   "execution_count": null,
   "metadata": {},
   "outputs": [],
   "source": [
    "stressors = get_data(root, 'stressors', 5)\n",
    "stressors.head(10)"
   ]
  },
  {
   "cell_type": "code",
   "execution_count": null,
   "metadata": {},
   "outputs": [],
   "source": [
    "hypo_event = get_data(root, 'hypo_event', 5)\n",
    "hypo_event.head(10)"
   ]
  },
  {
   "cell_type": "code",
   "execution_count": null,
   "metadata": {},
   "outputs": [],
   "source": [
    "illness = get_data(root, 'illness', 5)\n",
    "illness.head(10)"
   ]
  },
  {
   "cell_type": "code",
   "execution_count": null,
   "metadata": {},
   "outputs": [],
   "source": [
    "exercise = get_data(root, 'exercise', 5)\n",
    "exercise.head(10)"
   ]
  },
  {
   "cell_type": "code",
   "execution_count": null,
   "metadata": {},
   "outputs": [],
   "source": [
    "hr = get_data(root, 'basis_heart_rate', 5)\n",
    "hr.head(10)"
   ]
  },
  {
   "cell_type": "code",
   "execution_count": null,
   "metadata": {},
   "outputs": [],
   "source": [
    "gsr = get_data(root, 'basis_gsr', 5)\n",
    "gsr.head(10)"
   ]
  },
  {
   "cell_type": "code",
   "execution_count": null,
   "metadata": {},
   "outputs": [],
   "source": [
    "st = get_data(root, 'basis_skin_temperature', 5)\n",
    "st.head(10)"
   ]
  },
  {
   "cell_type": "code",
   "execution_count": null,
   "metadata": {},
   "outputs": [],
   "source": [
    "at = get_data(root, 'basis_air_temperature', 5)\n",
    "at.head(10)"
   ]
  },
  {
   "cell_type": "code",
   "execution_count": null,
   "metadata": {},
   "outputs": [],
   "source": [
    "steps = get_data(root, 'basis_steps', 5)\n",
    "steps.head(10)"
   ]
  },
  {
   "cell_type": "code",
   "execution_count": null,
   "metadata": {},
   "outputs": [],
   "source": [
    "basis_sleep = get_data(root, 'basis_sleep', 5)\n",
    "basis_sleep.head(10)"
   ]
  }
 ],
 "metadata": {
  "kernelspec": {
   "display_name": "Python 3",
   "language": "python",
   "name": "python3"
  },
  "language_info": {
   "codemirror_mode": {
    "name": "ipython",
    "version": 3
   },
   "file_extension": ".py",
   "mimetype": "text/x-python",
   "name": "python",
   "nbconvert_exporter": "python",
   "pygments_lexer": "ipython3",
   "version": "3.7.3"
  }
 },
 "nbformat": 4,
 "nbformat_minor": 4
}
